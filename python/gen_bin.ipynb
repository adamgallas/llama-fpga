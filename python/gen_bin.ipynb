{
 "cells": [
  {
   "cell_type": "code",
   "execution_count": null,
   "metadata": {},
   "outputs": [],
   "source": [
    "from awq.quantize.quantizer import AwqQuantizer\n",
    "from awq import AutoAWQForCausalLM\n",
    "from awq.evaluation import *\n",
    "from transformers import AutoTokenizer\n",
    "import os\n",
    "import torch\n",
    "from transformers.models.llama.modeling_llama import *\n",
    "from awq.modules.linear import (\n",
    "    WQLinear_GEMM,\n",
    "    WQLinear_GEMV,\n",
    "    WQLinear_Marlin,\n",
    "    WQLinear_GEMVFast,\n",
    ")\n",
    "from model2bin import *\n",
    "\n",
    "QUANT_GROUP = 128\n",
    "SCALE_UP = 4\n",
    "\n",
    "model_path = '../meta-llama/Llama-2-7b-chat-hf'\n",
    "quant_path = '../meta-llama/Llama-2-7b-chat-hf-awq-fpga'\n",
    "quant_config = { \"zero_point\": True, \"q_group_size\": 128, \"w_bit\": 4, \"version\": \"GEMV\" , \"modules_to_not_convert\": [\"mlp.down_proj\"]}"
   ]
  },
  {
   "cell_type": "code",
   "execution_count": null,
   "metadata": {},
   "outputs": [],
   "source": [
    "# quantize the model using AWQ\n",
    "\n",
    "model = AutoAWQForCausalLM.from_pretrained(model_path, device_map=\"cuda:0\")\n",
    "tokenizer = AutoTokenizer.from_pretrained(model_path, trust_remote_code=True)\n",
    "\n",
    "model.quantize(tokenizer, quant_config=quant_config)\n",
    "\n",
    "model.save_quantized(quant_path)\n",
    "tokenizer.save_pretrained(quant_path)"
   ]
  },
  {
   "cell_type": "code",
   "execution_count": null,
   "metadata": {},
   "outputs": [],
   "source": [
    "# directly load the quantized model\n",
    "\n",
    "model = AutoAWQForCausalLM.from_quantized(quant_path, fuse_layers=False, max_memory={4: \"8GB\"})\n",
    "tokenizer = AutoTokenizer.from_pretrained(model_path, trust_remote_code=True)\n",
    "\n",
    "model.model = model.model.to(\"cuda:4\")"
   ]
  },
  {
   "cell_type": "code",
   "execution_count": null,
   "metadata": {},
   "outputs": [],
   "source": [
    "# gen_bin for kv260, the PS DDR address space is split into two parts\n",
    "\n",
    "quant_model = LlamaModelFromAWQ(model.model, QUANT_GROUP, 1, [4, 1], SCALE_UP)\n",
    "\n",
    "first_pack = quant_model.gen_model_bin_first_half(1024, 0)\n",
    "print(len(first_pack))\n",
    "second_pack = quant_model.gen_model_bin_second_half(1024, 0)\n",
    "print(len(second_pack))\n",
    "\n",
    "with open(\"llama0.bin\", \"wb\") as f:\n",
    "    f.write(first_pack)\n",
    "\n",
    "with open(\"llama1.bin\", \"wb\") as f:\n",
    "    f.write(second_pack)"
   ]
  },
  {
   "cell_type": "code",
   "execution_count": null,
   "metadata": {},
   "outputs": [],
   "source": [
    "# gen_bin for zcu104 with PS and PL DDR\n",
    "\n",
    "quant_model = LlamaModelFromAWQ(model.model, QUANT_GROUP, 2, [4, 1], SCALE_UP)\n",
    "\n",
    "model_pack_ps = quant_model.gen_model_bin(1024, 0)\n",
    "print(len(model_pack_ps))\n",
    "model_pack_pl = quant_model.gen_model_bin(1024, 1)\n",
    "print(len(model_pack_pl))\n",
    "\n",
    "with open(\"llmps.bin\", \"wb\") as f:\n",
    "    f.write(model_pack_ps)\n",
    "\n",
    "with open(\"llmpl.bin\", \"wb\") as f:\n",
    "    f.write(model_pack_pl)"
   ]
  },
  {
   "cell_type": "code",
   "execution_count": null,
   "metadata": {},
   "outputs": [],
   "source": [
    "# gen_bin for zcu104 with PL DDR only\n",
    "\n",
    "quant_model = LlamaModelFromAWQ(model.model, QUANT_GROUP, 1, [1], SCALE_UP)\n",
    "\n",
    "model_pack = quant_model.gen_model_bin(1024, 0)\n",
    "print(len(model_pack))\n",
    "\n",
    "with open(\"migpl.bin\", \"wb\") as f:\n",
    "    f.write(model_pack_ps)"
   ]
  },
  {
   "cell_type": "code",
   "execution_count": null,
   "metadata": {},
   "outputs": [],
   "source": [
    "# gen_bin for boards with two PL MIG DDRs\n",
    "\n",
    "quant_model = LlamaModelFromAWQ(model.model, QUANT_GROUP, 2, [1, 1], SCALE_UP)\n",
    "\n",
    "pack_0 = quant_model.gen_model_bin(1024, 0)\n",
    "print(len(pack_0))\n",
    "pack_1 = quant_model.gen_model_bin(1024, 1)\n",
    "print(len(pack_1))\n",
    "\n",
    "with open(\"llmc0.bin\", \"wb\") as f:\n",
    "    f.write(pack_0)\n",
    "\n",
    "with open(\"llmc1.bin\", \"wb\") as f:\n",
    "    f.write(pack_1)"
   ]
  },
  {
   "cell_type": "code",
   "execution_count": null,
   "metadata": {},
   "outputs": [],
   "source": [
    "# gen_bin for boards with four PL MIG DDRs\n",
    "\n",
    "quant_model = LlamaModelFromAWQ(model.model, QUANT_GROUP, 4, [1, 1, 1, 1], SCALE_UP)\n",
    "\n",
    "pack_0 = quant_model.gen_model_bin(1024, 0)\n",
    "print(len(pack_0))\n",
    "pack_1 = quant_model.gen_model_bin(1024, 1)\n",
    "print(len(pack_1))\n",
    "pack_2 = quant_model.gen_model_bin(1024, 2)\n",
    "print(len(pack_2))\n",
    "pack_3 = quant_model.gen_model_bin(1024, 3)\n",
    "print(len(pack_3))\n",
    "\n",
    "with open(\"llmc0.bin\", \"wb\") as f:\n",
    "    f.write(pack_0)\n",
    "\n",
    "with open(\"llmc1.bin\", \"wb\") as f:\n",
    "    f.write(pack_1)\n",
    "\n",
    "with open(\"llmc2.bin\", \"wb\") as f:\n",
    "    f.write(pack_2)\n",
    "\n",
    "with open(\"llmc3.bin\", \"wb\") as f:\n",
    "    f.write(pack_3)"
   ]
  },
  {
   "cell_type": "code",
   "execution_count": null,
   "metadata": {},
   "outputs": [],
   "source": []
  }
 ],
 "metadata": {
  "kernelspec": {
   "display_name": "awq",
   "language": "python",
   "name": "python3"
  },
  "language_info": {
   "codemirror_mode": {
    "name": "ipython",
    "version": 3
   },
   "file_extension": ".py",
   "mimetype": "text/x-python",
   "name": "python",
   "nbconvert_exporter": "python",
   "pygments_lexer": "ipython3",
   "version": "3.10.14"
  }
 },
 "nbformat": 4,
 "nbformat_minor": 2
}
